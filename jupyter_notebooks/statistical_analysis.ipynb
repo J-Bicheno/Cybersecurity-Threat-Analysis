{
 "cells": [
  {
   "cell_type": "markdown",
   "id": "a897f35b",
   "metadata": {},
   "source": [
    "# **Statistical analysis**\n",
    "\n",
    "### Objectives\n",
    "- Do a statistical analysis on as many variables as possible to check whether there is any relationship between `class` and the variable.\n",
    "\n",
    "### Input\n",
    "- The cleaned and preprocessed dataset.\n",
    "\n",
    "### Output\n",
    "- Distribution graphs and statistical tests summarized in the table at the end"
   ]
  },
  {
   "cell_type": "markdown",
   "id": "f4dc248b",
   "metadata": {},
   "source": [
    "## Load the data"
   ]
  },
  {
   "cell_type": "markdown",
   "id": "fa6dce31",
   "metadata": {},
   "source": []
  }
 ],
 "metadata": {
  "language_info": {
   "name": "python"
  }
 },
 "nbformat": 4,
 "nbformat_minor": 5
}
