{
 "cells": [
  {
   "cell_type": "markdown",
   "id": "43969915",
   "metadata": {},
   "source": [
    "# **Data cleaning**\n",
    "\n",
    "### Objectives\n",
    "- Clean the `.csv` raw data from Kaggle. Data cleaning is necessary for data visualization and for machine learning model training.\n",
    "\n",
    "### Inputs\n",
    "- This file cleans two `.csv` files: `Test_data.csv` and `Train_data.scv`, both located in the `data/raw` folder.\n",
    "\n",
    "### Outputs\n",
    "- Both files will be saved after the cleaning process in the `data/cleaned` folder. This cleaned data will be further used in data visualization, statistical analysis, machine learning models and the dashboard."
   ]
  },
  {
   "cell_type": "markdown",
   "id": "c6590500",
   "metadata": {},
   "source": [
    "## Load the libraries and the data"
   ]
  },
  {
   "cell_type": "markdown",
   "id": "9429632d",
   "metadata": {},
   "source": []
  }
 ],
 "metadata": {
  "language_info": {
   "name": "python"
  }
 },
 "nbformat": 4,
 "nbformat_minor": 5
}
